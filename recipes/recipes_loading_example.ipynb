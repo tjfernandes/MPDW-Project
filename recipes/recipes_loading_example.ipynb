{
 "cells": [
  {
   "cell_type": "markdown",
   "id": "17bd35f5-e8d7-4f85-8f4d-a045c4eb9ee1",
   "metadata": {},
   "source": [
    "# Search index\n",
    "\n",
    "Using OpenSearch to create index mappings for the recipes"
   ]
  },
  {
   "cell_type": "code",
   "execution_count": null,
   "id": "9b9bccdb-5585-47be-b8a9-ef0c2a06fdf9",
   "metadata": {},
   "outputs": [],
   "source": [
    "import json as json\n",
    "\n",
    "with open(\"recipes_data.json\", \"r\") as read_file:\n",
    "    data = json.load(read_file)"
   ]
  },
  {
   "cell_type": "code",
   "execution_count": null,
   "id": "f934a6af-51e0-4fec-8590-7253d4fcd44e",
   "metadata": {},
   "outputs": [],
   "source": [
    "j = len(data)\n",
    "str(j)"
   ]
  },
  {
   "cell_type": "code",
   "execution_count": null,
   "id": "3f57cfb5-80f0-4af2-8d80-7d62aec96a0e",
   "metadata": {},
   "outputs": [],
   "source": [
    "data[']"
   ]
  },
  {
   "cell_type": "code",
   "execution_count": null,
   "id": "ab066c72-41d1-49ea-95bb-277659eb003f",
   "metadata": {},
   "outputs": [],
   "source": [
    "import pprint as pp\n",
    "import requests\n",
    "\n",
    "host = 'api.novasearch.org'\n",
    "port = 443\n",
    "user = 'user219' # Add your user name here.\n",
    "password = '=AML*G^Y7S:n,dX' # Add your user password here. For testing only. Don't store credentials in code. \n",
    "index_name = user"
   ]
  },
  {
   "cell_type": "code",
   "execution_count": null,
   "id": "4ef7d74f-d475-4b6e-bc49-d53a8f88a4a8",
   "metadata": {},
   "outputs": [],
   "source": [
    "from opensearchpy import OpenSearch\n",
    "from opensearchpy import helpers\n",
    "\n",
    "# Create the client with SSL/TLS enabled, but hostname verification disabled.\n",
    "client = OpenSearch(\n",
    "    hosts = [{'host': host, 'port': port}],\n",
    "    http_compress = True, # enables gzip compression for request bodies\n",
    "    http_auth = (user, password),\n",
    "    url_prefix = 'opensearch',\n",
    "    use_ssl = True,\n",
    "    verify_certs = False,\n",
    "    ssl_assert_hostname = False,\n",
    "    ssl_show_warn = False\n",
    ")\n",
    "\n",
    "if client.indices.exists(index_name):\n",
    "    print('DEU')\n"
   ]
  }
 ],
 "metadata": {
  "kernelspec": {
   "display_name": "nlp-cv-ir",
   "language": "python",
   "name": "nlp-cv-ir"
  },
  "language_info": {
   "codemirror_mode": {
    "name": "ipython",
    "version": 3
   },
   "file_extension": ".py",
   "mimetype": "text/x-python",
   "name": "python",
   "nbconvert_exporter": "python",
   "pygments_lexer": "ipython3",
   "version": "3.9.18"
  },
  "toc-autonumbering": true
 },
 "nbformat": 4,
 "nbformat_minor": 5
}
