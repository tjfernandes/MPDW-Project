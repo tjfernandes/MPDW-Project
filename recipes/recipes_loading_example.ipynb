{
 "cells": [
  {
   "cell_type": "markdown",
   "id": "17bd35f5-e8d7-4f85-8f4d-a045c4eb9ee1",
   "metadata": {},
   "source": [
    "# Introduction Search Index\n",
    "\n",
    "Using OpenSearch to create index mappings for the recipes"
   ]
  },
  {
   "cell_type": "markdown",
   "id": "9871531b-42a1-493f-84c5-2e9298c68976",
   "metadata": {},
   "source": [
    "# Import and parse JSON file with the recipes"
   ]
  },
  {
   "cell_type": "code",
   "execution_count": 1,
   "id": "9b9bccdb-5585-47be-b8a9-ef0c2a06fdf9",
   "metadata": {},
   "outputs": [],
   "source": [
    "import json as json\n",
    "\n",
    "with open(\"recipes_data.json\", \"r\") as read_file:\n",
    "    recipes_data = json.load(read_file)"
   ]
  },
  {
   "cell_type": "code",
   "execution_count": 2,
   "id": "f934a6af-51e0-4fec-8590-7253d4fcd44e",
   "metadata": {},
   "outputs": [
    {
     "data": {
      "text/plain": [
       "'994'"
      ]
     },
     "execution_count": 2,
     "metadata": {},
     "output_type": "execute_result"
    }
   ],
   "source": [
    "recipe_book_len = len(recipes_data)\n",
    "str(recipe_book_len)"
   ]
  },
  {
   "cell_type": "code",
   "execution_count": null,
   "id": "82cadbaa-6032-4afe-ba4f-71eecc901aa9",
   "metadata": {},
   "outputs": [],
   "source": [
    "recipes_data['0']"
   ]
  },
  {
   "cell_type": "markdown",
   "id": "bd825748-b65f-45ae-8ee9-9113a7cbec1b",
   "metadata": {},
   "source": [
    "# OpenSearch client creation\n"
   ]
  },
  {
   "cell_type": "markdown",
   "id": "6483bf4a-f3b5-4221-997e-d6c7840fcf9b",
   "metadata": {},
   "source": [
    "Need to create the openSearch client in order to create the search index mappings and further quering"
   ]
  },
  {
   "cell_type": "markdown",
   "id": "2d553a8d-0046-44f7-a0e3-5b415ec54634",
   "metadata": {},
   "source": [
    "## Credentials and index name"
   ]
  },
  {
   "cell_type": "code",
   "execution_count": 3,
   "id": "ab066c72-41d1-49ea-95bb-277659eb003f",
   "metadata": {},
   "outputs": [
    {
     "name": "stdout",
     "output_type": "stream",
     "text": [
      "user219\n"
     ]
    }
   ],
   "source": [
    "import pprint as pp\n",
    "import requests\n",
    "from config import CONFIG\n",
    "\n",
    "host = CONFIG[\"host\"]\n",
    "port = CONFIG[\"port\"]\n",
    "user = CONFIG[\"user\"]\n",
    "password = CONFIG[\"password\"]\n",
    "#index_name = CONFIG[\"index_name\"]\n",
    "index_name = user\n",
    "\n",
    "print(index_name)"
   ]
  },
  {
   "cell_type": "markdown",
   "id": "dd219777-796d-42e0-84c7-f7fba49a6315",
   "metadata": {},
   "source": [
    "## Create the OpenSearch client and check if index_name exists"
   ]
  },
  {
   "cell_type": "code",
   "execution_count": 4,
   "id": "4ef7d74f-d475-4b6e-bc49-d53a8f88a4a8",
   "metadata": {},
   "outputs": [],
   "source": [
    "from opensearchpy import OpenSearch\n",
    "from opensearchpy import helpers\n",
    "\n",
    "# Create the client with SSL/TLS enabled, but hostname verification disabled.\n",
    "client = OpenSearch(\n",
    "    hosts = [{'host': host, 'port': port}],\n",
    "    http_compress = True, # enables gzip compression for request bodies\n",
    "    http_auth = (user, password),\n",
    "    url_prefix = 'opensearch',\n",
    "    use_ssl = True,\n",
    "    verify_certs = False,\n",
    "    ssl_assert_hostname = False,\n",
    "    ssl_show_warn = False\n",
    ")\n",
    "\n",
    "# index_name_test = 'python-test-index'\n",
    "# index_body_test = {\n",
    "#   'settings': {\n",
    "#     'index': {\n",
    "#       'number_of_shards': 4\n",
    "#     }\n",
    "#   }\n",
    "# }\n",
    "\n",
    "# response = client.indices.create(index_name_test, body=index_body_test)"
   ]
  },
  {
   "cell_type": "markdown",
   "id": "d5148e96-6c91-4562-a1d8-4159caa1a5a0",
   "metadata": {},
   "source": [
    "# Index mappings"
   ]
  },
  {
   "cell_type": "code",
   "execution_count": 5,
   "id": "b8ac954b-0887-46b8-824f-bde92526bbc7",
   "metadata": {},
   "outputs": [],
   "source": [
    "# recipe_mapping = {\n",
    "#     \"properties\": {\n",
    "#             \"test\": {\"type\": \"keyword\"},\n",
    "#         }\n",
    "# }"
   ]
  },
  {
   "cell_type": "markdown",
   "id": "25e5afbf-a08f-42ba-a0ba-191c5b562bff",
   "metadata": {},
   "source": [
    "## Print index properties"
   ]
  },
  {
   "cell_type": "code",
   "execution_count": 6,
   "id": "d14cf973-856b-4ba3-89a0-ac3b7de25bbd",
   "metadata": {},
   "outputs": [
    {
     "name": "stdout",
     "output_type": "stream",
     "text": [
      "\n",
      "----------------------------------------------------------------------------------- INDEX SETTINGS\n",
      "{'user219': {'settings': {'index': {'creation_date': '1649241367846',\n",
      "                                    'knn': 'true',\n",
      "                                    'number_of_replicas': '0',\n",
      "                                    'number_of_shards': '4',\n",
      "                                    'provided_name': 'user219',\n",
      "                                    'refresh_interval': '1s',\n",
      "                                    'uuid': 'PpMrLHMUSLqJ2_V185OjRA',\n",
      "                                    'version': {'created': '135238227'}}}}}\n",
      "\n",
      "----------------------------------------------------------------------------------- INDEX MAPPINGS\n",
      "{'user219': {'mappings': {'dynamic': 'strict',\n",
      "                          'properties': {'canonicalName': {'type': 'keyword'},\n",
      "                                         'contents': {'analyzer': 'standard',\n",
      "                                                      'similarity': 'BM25',\n",
      "                                                      'type': 'text'},\n",
      "                                         'cookTimeMinutes': {'type': 'integer'},\n",
      "                                         'cookingMethod': {'type': 'keyword'},\n",
      "                                         'description': {'type': 'text'},\n",
      "                                         'difficultyLevel': {'type': 'keyword'},\n",
      "                                         'displayName': {'type': 'text'},\n",
      "                                         'doc_id': {'type': 'keyword'},\n",
      "                                         'ingredients': {'properties': {'displayText': {'type': 'text'},\n",
      "                                                                        'ingredient': {'type': 'text'},\n",
      "                                                                        'name': {'type': 'text'},\n",
      "                                                                        'quantity': {'type': 'integer'},\n",
      "                                                                        'unit': {'type': 'keyword'}},\n",
      "                                                         'type': 'nested'},\n",
      "                                         'new_field': {'type': 'text'},\n",
      "                                         'prepTimeMinutes': {'type': 'integer'},\n",
      "                                         'recipe': {'properties': {'components': {'properties': {'name': {'type': 'text'}},\n",
      "                                                                                  'type': 'nested'},\n",
      "                                                                   'cookTimeMinutes': {'type': 'integer'},\n",
      "                                                                   'description': {'type': 'text'},\n",
      "                                                                   'difficultyLevel': {'type': 'keyword'},\n",
      "                                                                   'images': {'properties': {'type': {'type': 'keyword'},\n",
      "                                                                                             'url': {'type': 'text'}},\n",
      "                                                                              'type': 'nested'},\n",
      "                                                                   'ingredients': {'properties': {'displayText': {'type': 'text'},\n",
      "                                                                                                  'ingredient': {'type': 'text'},\n",
      "                                                                                                  'quantity': {'type': 'float'},\n",
      "                                                                                                  'unit': {'type': 'keyword'}},\n",
      "                                                                                   'type': 'nested'},\n",
      "                                                                   'instructions': {'properties': {'stepNumber': {'type': 'integer'},\n",
      "                                                                                                   'stepText': {'type': 'text'},\n",
      "                                                                                                   'stepTitle': {'type': 'text'}},\n",
      "                                                                                    'type': 'nested'},\n",
      "                                                                   'nutrition': {'properties': {'nutrients': {'properties': {'calories': {'type': 'float'},\n",
      "                                                                                                                             'carbohydrateContent': {'type': 'float'},\n",
      "                                                                                                                             'cholesterolContent': {'type': 'float'},\n",
      "                                                                                                                             'fatContent': {'type': 'float'},\n",
      "                                                                                                                             'fiberContent': {'type': 'float'},\n",
      "                                                                                                                             'proteinContent': {'type': 'float'},\n",
      "                                                                                                                             'saturatedFatContent': {'type': 'float'},\n",
      "                                                                                                                             'servingSize': {'type': 'float'},\n",
      "                                                                                                                             'sodiumContent': {'type': 'float'},\n",
      "                                                                                                                             'sugarContent': {'type': 'float'},\n",
      "                                                                                                                             'transFatContent': {'type': 'float'},\n",
      "                                                                                                                             'unsaturatedFatContent': {'type': 'float'}},\n",
      "                                                                                                              'type': 'nested'}},\n",
      "                                                                                 'type': 'nested'},\n",
      "                                                                   'prepTimeMinutes': {'type': 'integer'},\n",
      "                                                                   'servings': {'type': 'integer'},\n",
      "                                                                   'title': {'type': 'text'},\n",
      "                                                                   'tools': {'properties': {'displayName': {'type': 'text'}},\n",
      "                                                                             'type': 'nested'},\n",
      "                                                                   'totalTimeMinutes': {'type': 'integer'}},\n",
      "                                                    'type': 'nested'},\n",
      "                                         'recipe_id': {'type': 'keyword'},\n",
      "                                         'sentence_embedding': {'dimension': 768,\n",
      "                                                                'method': {'engine': 'faiss',\n",
      "                                                                           'name': 'hnsw',\n",
      "                                                                           'parameters': {'ef_construction': 256,\n",
      "                                                                                          'm': 48},\n",
      "                                                                           'space_type': 'innerproduct'},\n",
      "                                                                'type': 'knn_vector'},\n",
      "                                         'tags': {'type': 'keyword'},\n",
      "                                         'test': {'type': 'keyword'},\n",
      "                                         'time': {'type': 'integer'},\n",
      "                                         'title': {'type': 'text'},\n",
      "                                         'title_embedding': {'dimension': 512,\n",
      "                                                             'type': 'knn_vector'},\n",
      "                                         'totalTimeMinutes': {'type': 'integer'}}}}}\n",
      "\n",
      "----------------------------------------------------------------------------------- INDEX #DOCs\n",
      "{'count': 455, '_shards': {'total': 4, 'successful': 4, 'skipped': 0, 'failed': 0}}\n"
     ]
    }
   ],
   "source": [
    "print('\\n----------------------------------------------------------------------------------- INDEX SETTINGS')\n",
    "index_settings = {\n",
    "    \"settings\":{\n",
    "      \"index\":{\n",
    "         \"refresh_interval\" : \"1s\"\n",
    "      }\n",
    "   }\n",
    "}\n",
    "client.indices.put_settings(index = index_name, body = index_settings)\n",
    "settings = client.indices.get_settings(index = index_name)\n",
    "pp.pprint(settings)\n",
    "\n",
    "print('\\n----------------------------------------------------------------------------------- INDEX MAPPINGS')\n",
    "client.indices.put_mapping(\n",
    "    index=index_name,\n",
    "    body={\n",
    "        \"properties\": {\n",
    "            \"ingredients\": {\n",
    "              \"type\": \"nested\",\n",
    "              \"properties\": {\n",
    "                \"displayText\": {\"type\": \"text\"},\n",
    "                \"ingredient\": {\"type\": \"text\"},\n",
    "                \"quantity\": {\"type\": \"integer\"},\n",
    "                \"unit\": {\"type\": \"keyword\"}\n",
    "              }\n",
    "            }\n",
    "        }\n",
    "    }\n",
    ")\n",
    "\n",
    "\n",
    "mappings = client.indices.get_mapping(index = index_name)\n",
    "pp.pprint(mappings)\n",
    "\n",
    "print('\\n----------------------------------------------------------------------------------- INDEX #DOCs')\n",
    "print(client.count(index = index_name))"
   ]
  },
  {
   "cell_type": "markdown",
   "id": "1faab3df-71df-4503-a126-35fa80da13b9",
   "metadata": {},
   "source": [
    "# Add recipes to index with the correct mappings"
   ]
  },
  {
   "cell_type": "code",
   "execution_count": null,
   "id": "45e7d823-822d-4d41-b592-a5d7e5b087e6",
   "metadata": {},
   "outputs": [],
   "source": [
    "for recipe_id in recipes_data:\n",
    "    prep_time = recipes_data[recipe_id]['prepTimeMinutes']\n",
    "    cook_time = recipes_data[recipe_id]['cookTimeMinutes']\n",
    "\n",
    "    if prep_time is not None and cook_time is not None:\n",
    "        time = prep_time + cook_time\n",
    "    else:\n",
    "        time = None\n",
    "\n",
    "\n",
    "    # Extract and format ingredients data\n",
    "    ingredients = []\n",
    "    for ingredient_data in recipes_data[recipe_id]['ingredients']:\n",
    "        ingredient = {\n",
    "            \"displayText\": ingredient_data['displayText'],\n",
    "            \"ingredient\": ingredient_data['ingredient'],\n",
    "            \"quantity\": ingredient_data.get('quantity'),\n",
    "            \"unit\": ingredient_data.get('unit')\n",
    "        }\n",
    "        ingredients.append(ingredient)\n",
    "\n",
    "    # Test first recipe log\n",
    "    if recipe_id == '0': \n",
    "        print(ingredients)\n",
    "    \n",
    "    recipe = {\n",
    "        \"recipe_id\": recipe_id,\n",
    "        \"title\": recipes_data[recipe_id]['displayName'],\n",
    "        #\"title_embedding\": None, # should call embedding function\n",
    "        \"description\": recipes_data[recipe_id]['description'],\n",
    "        \"ingredients\": ingredients,\n",
    "        \"time\": time,\n",
    "    }\n",
    "\n",
    "\n",
    "    ## Add recipe to index (not sure if it has the right mappings yet, so stay commented)\n",
    "    if recipe_id == '0': \n",
    "        result = client.index(index=index_name, id=int(recipe_id), body=recipe)\n",
    "        print(result)\n",
    "    "
   ]
  },
  {
   "cell_type": "markdown",
   "id": "c63e79a6-1c3e-49c5-9a55-3b2200b49cd6",
   "metadata": {},
   "source": [
    "# Text Based Search"
   ]
  },
  {
   "cell_type": "code",
   "execution_count": null,
   "id": "f581df6e-7d64-45b6-845f-e926eb998ce4",
   "metadata": {},
   "outputs": [],
   "source": [
    "def text_based_search(size, sources, query_txt, fields):\n",
    "    query_bm25 = {\n",
    "      'size': size,\n",
    "      '_source': sources,\n",
    "      'query': {\n",
    "        'multi_match': {\n",
    "          'query': query_txt,\n",
    "          'fields': fields\n",
    "        }\n",
    "      }\n",
    "    }\n",
    "    print(\"EN>TROU\")\n",
    "    return client.search(\n",
    "        body = query_bm25,\n",
    "        index = index_name\n",
    "    )\n",
    "\n",
    "\n",
    "result = text_based_search(recipe_book_len, ['title', 'description', 'ingredients'], 'chicken parmesan.', ['title'])\n",
    "\n",
    "print('\\nSearch results:')\n",
    "pp.pprint(result)\n"
   ]
  },
  {
   "cell_type": "markdown",
   "id": "2808b8a0-8edf-4285-935a-74079cc0ad15",
   "metadata": {},
   "source": [
    "# Embeddings based Search with kNN\n",
    "\n",
    "Using Approximate kNN for better perfomance over kNN on high-dimensional data.\n",
    "\n",
    "Using dense vector for capturing more complex relationships and similarities between data points while working with high-dimensional data"
   ]
  },
  {
   "cell_type": "code",
   "execution_count": 20,
   "id": "b0f6f628-e719-4f08-8e86-0dc2d8625f97",
   "metadata": {},
   "outputs": [
    {
     "name": "stdout",
     "output_type": "stream",
     "text": [
      "{'user219': {'mappings': {'dynamic': 'strict',\n",
      "                          'properties': {'canonicalName': {'type': 'keyword'},\n",
      "                                         'contents': {'analyzer': 'standard',\n",
      "                                                      'similarity': 'BM25',\n",
      "                                                      'type': 'text'},\n",
      "                                         'cookTimeMinutes': {'type': 'integer'},\n",
      "                                         'cookingMethod': {'type': 'keyword'},\n",
      "                                         'description': {'type': 'text'},\n",
      "                                         'description_embedding': {'dimension': 768,\n",
      "                                                                   'method': {'engine': 'faiss',\n",
      "                                                                              'name': 'hnsw',\n",
      "                                                                              'parameters': {'ef_construction': 256,\n",
      "                                                                                             'm': 48},\n",
      "                                                                              'space_type': 'innerproduct'},\n",
      "                                                                   'type': 'knn_vector'},\n",
      "                                         'difficultyLevel': {'type': 'keyword'},\n",
      "                                         'displayName': {'type': 'text'},\n",
      "                                         'doc_id': {'type': 'keyword'},\n",
      "                                         'ingredients': {'properties': {'displayText': {'type': 'text'},\n",
      "                                                                        'ingredient': {'type': 'text'},\n",
      "                                                                        'name': {'type': 'text'},\n",
      "                                                                        'quantity': {'type': 'integer'},\n",
      "                                                                        'unit': {'type': 'keyword'}},\n",
      "                                                         'type': 'nested'},\n",
      "                                         'new_field': {'type': 'text'},\n",
      "                                         'prepTimeMinutes': {'type': 'integer'},\n",
      "                                         'recipe': {'properties': {'components': {'properties': {'name': {'type': 'text'}},\n",
      "                                                                                  'type': 'nested'},\n",
      "                                                                   'cookTimeMinutes': {'type': 'integer'},\n",
      "                                                                   'description': {'type': 'text'},\n",
      "                                                                   'difficultyLevel': {'type': 'keyword'},\n",
      "                                                                   'images': {'properties': {'type': {'type': 'keyword'},\n",
      "                                                                                             'url': {'type': 'text'}},\n",
      "                                                                              'type': 'nested'},\n",
      "                                                                   'ingredients': {'properties': {'displayText': {'type': 'text'},\n",
      "                                                                                                  'ingredient': {'type': 'text'},\n",
      "                                                                                                  'quantity': {'type': 'float'},\n",
      "                                                                                                  'unit': {'type': 'keyword'}},\n",
      "                                                                                   'type': 'nested'},\n",
      "                                                                   'instructions': {'properties': {'stepNumber': {'type': 'integer'},\n",
      "                                                                                                   'stepText': {'type': 'text'},\n",
      "                                                                                                   'stepTitle': {'type': 'text'}},\n",
      "                                                                                    'type': 'nested'},\n",
      "                                                                   'nutrition': {'properties': {'nutrients': {'properties': {'calories': {'type': 'float'},\n",
      "                                                                                                                             'carbohydrateContent': {'type': 'float'},\n",
      "                                                                                                                             'cholesterolContent': {'type': 'float'},\n",
      "                                                                                                                             'fatContent': {'type': 'float'},\n",
      "                                                                                                                             'fiberContent': {'type': 'float'},\n",
      "                                                                                                                             'proteinContent': {'type': 'float'},\n",
      "                                                                                                                             'saturatedFatContent': {'type': 'float'},\n",
      "                                                                                                                             'servingSize': {'type': 'float'},\n",
      "                                                                                                                             'sodiumContent': {'type': 'float'},\n",
      "                                                                                                                             'sugarContent': {'type': 'float'},\n",
      "                                                                                                                             'transFatContent': {'type': 'float'},\n",
      "                                                                                                                             'unsaturatedFatContent': {'type': 'float'}},\n",
      "                                                                                                              'type': 'nested'}},\n",
      "                                                                                 'type': 'nested'},\n",
      "                                                                   'prepTimeMinutes': {'type': 'integer'},\n",
      "                                                                   'servings': {'type': 'integer'},\n",
      "                                                                   'title': {'type': 'text'},\n",
      "                                                                   'tools': {'properties': {'displayName': {'type': 'text'}},\n",
      "                                                                             'type': 'nested'},\n",
      "                                                                   'totalTimeMinutes': {'type': 'integer'}},\n",
      "                                                    'type': 'nested'},\n",
      "                                         'recipe_id': {'type': 'keyword'},\n",
      "                                         'sentence_embedding': {'dimension': 768,\n",
      "                                                                'method': {'engine': 'faiss',\n",
      "                                                                           'name': 'hnsw',\n",
      "                                                                           'parameters': {'ef_construction': 256,\n",
      "                                                                                          'm': 48},\n",
      "                                                                           'space_type': 'innerproduct'},\n",
      "                                                                'type': 'knn_vector'},\n",
      "                                         'tags': {'type': 'keyword'},\n",
      "                                         'test': {'type': 'keyword'},\n",
      "                                         'time': {'type': 'integer'},\n",
      "                                         'title': {'type': 'text'},\n",
      "                                         'title_embedding': {'dimension': 512,\n",
      "                                                             'type': 'knn_vector'},\n",
      "                                         'totalTimeMinutes': {'type': 'integer'}}}}}\n"
     ]
    }
   ],
   "source": [
    "emebedding_mappings = {\n",
    "    \"properties\": {\n",
    "        # \"title_embedding\":{\n",
    "        #     \"type\":\"knn_vector\",\n",
    "        #     \"dimension\": 768,\n",
    "        #     \"method\":{\n",
    "        #         \"name\":\"hnsw\",\n",
    "        #         \"space_type\":\"innerproduct\",\n",
    "        #         \"engine\":\"faiss\",\n",
    "        #         \"parameters\":{\n",
    "        #           \"ef_construction\":256,\n",
    "        #           \"m\":48\n",
    "        #         }\n",
    "        #     }\n",
    "        # },\n",
    "        \"description_embedding\":{\n",
    "            \"type\":\"knn_vector\",\n",
    "            \"dimension\": 768,\n",
    "            \"method\":{\n",
    "                \"name\":\"hnsw\",\n",
    "                \"space_type\":\"innerproduct\",\n",
    "                \"engine\":\"faiss\",\n",
    "                \"parameters\":{\n",
    "                  \"ef_construction\":256,\n",
    "                  \"m\":48\n",
    "                }\n",
    "            }\n",
    "        }\n",
    "    }\n",
    "}\n",
    "\n",
    "client.indices.put_mapping(index=index_name, body=emebedding_mappings)\n",
    "mappings = client.indices.get_mapping(index = index_name)\n",
    "pp.pprint(mappings)"
   ]
  },
  {
   "cell_type": "code",
   "execution_count": null,
   "id": "f32f3fcd-0018-48c1-b14c-8dc83cab2305",
   "metadata": {},
   "outputs": [],
   "source": []
  }
 ],
 "metadata": {
  "kernelspec": {
   "display_name": "nlp-cv-ir",
   "language": "python",
   "name": "nlp-cv-ir"
  },
  "language_info": {
   "codemirror_mode": {
    "name": "ipython",
    "version": 3
   },
   "file_extension": ".py",
   "mimetype": "text/x-python",
   "name": "python",
   "nbconvert_exporter": "python",
   "pygments_lexer": "ipython3",
   "version": "3.9.18"
  },
  "toc-autonumbering": true
 },
 "nbformat": 4,
 "nbformat_minor": 5
}
