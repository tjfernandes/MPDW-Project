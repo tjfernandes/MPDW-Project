{
 "cells": [
  {
   "cell_type": "markdown",
   "id": "17bd35f5-e8d7-4f85-8f4d-a045c4eb9ee1",
   "metadata": {},
   "source": [
    "# Search index\n",
    "\n",
    "Using OpenSearch to create index mappings for the recipes"
   ]
  },
  {
   "cell_type": "markdown",
   "id": "9871531b-42a1-493f-84c5-2e9298c68976",
   "metadata": {},
   "source": [
    "## Import and parse JSON file with the recipes"
   ]
  },
  {
   "cell_type": "code",
   "execution_count": 43,
   "id": "9b9bccdb-5585-47be-b8a9-ef0c2a06fdf9",
   "metadata": {},
   "outputs": [],
   "source": [
    "import json as json\n",
    "\n",
    "with open(\"recipes_data.json\", \"r\") as read_file:\n",
    "    recipes_data = json.load(read_file)"
   ]
  },
  {
   "cell_type": "code",
   "execution_count": 17,
   "id": "f934a6af-51e0-4fec-8590-7253d4fcd44e",
   "metadata": {},
   "outputs": [
    {
     "data": {
      "text/plain": [
       "'994'"
      ]
     },
     "execution_count": 17,
     "metadata": {},
     "output_type": "execute_result"
    }
   ],
   "source": [
    "j = len(recipes_data)\n",
    "str(j)"
   ]
  },
  {
   "cell_type": "markdown",
   "id": "bd825748-b65f-45ae-8ee9-9113a7cbec1b",
   "metadata": {},
   "source": [
    "## OpenSearch client creation\n"
   ]
  },
  {
   "cell_type": "markdown",
   "id": "6483bf4a-f3b5-4221-997e-d6c7840fcf9b",
   "metadata": {},
   "source": [
    "Need to create the openSearch client in order to create the search index mappings and further quering"
   ]
  },
  {
   "cell_type": "markdown",
   "id": "2d553a8d-0046-44f7-a0e3-5b415ec54634",
   "metadata": {},
   "source": [
    "### Credentials and index name"
   ]
  },
  {
   "cell_type": "code",
   "execution_count": 10,
   "id": "ab066c72-41d1-49ea-95bb-277659eb003f",
   "metadata": {},
   "outputs": [
    {
     "name": "stdout",
     "output_type": "stream",
     "text": [
      "user219\n"
     ]
    }
   ],
   "source": [
    "import pprint as pp\n",
    "import requests\n",
    "from config import CONFIG\n",
    "\n",
    "host = CONFIG[\"host\"]\n",
    "port = CONFIG[\"port\"]\n",
    "user = CONFIG[\"user\"]\n",
    "password = CONFIG[\"password\"]\n",
    "#index_name = CONFIG[\"index_name\"]\n",
    "index_name = user\n",
    "\n",
    "print(index_name)"
   ]
  },
  {
   "cell_type": "markdown",
   "id": "dd219777-796d-42e0-84c7-f7fba49a6315",
   "metadata": {},
   "source": [
    "### Create the OpenSearch client and check if index_name exists"
   ]
  },
  {
   "cell_type": "code",
   "execution_count": null,
   "id": "4ef7d74f-d475-4b6e-bc49-d53a8f88a4a8",
   "metadata": {},
   "outputs": [],
   "source": [
    "from opensearchpy import OpenSearch\n",
    "from opensearchpy import helpers\n",
    "\n",
    "# Create the client with SSL/TLS enabled, but hostname verification disabled.\n",
    "client = OpenSearch(\n",
    "    hosts = [{'host': host, 'port': port}],\n",
    "    http_compress = True, # enables gzip compression for request bodies\n",
    "    http_auth = (user, password),\n",
    "    url_prefix = 'opensearch',\n",
    "    use_ssl = True,\n",
    "    verify_certs = False,\n",
    "    ssl_assert_hostname = False,\n",
    "    ssl_show_warn = False\n",
    ")\n",
    "\n",
    "index_name_test = 'python-test-index'\n",
    "index_body_test = {\n",
    "  'settings': {\n",
    "    'index': {\n",
    "      'number_of_shards': 4\n",
    "    }\n",
    "  }\n",
    "}\n",
    "\n",
    "response = client.indices.create(index_name_test, body=index_body_test)"
   ]
  },
  {
   "cell_type": "markdown",
   "id": "d5148e96-6c91-4562-a1d8-4159caa1a5a0",
   "metadata": {},
   "source": [
    "## Index mappings"
   ]
  },
  {
   "cell_type": "code",
   "execution_count": 12,
   "id": "b8ac954b-0887-46b8-824f-bde92526bbc7",
   "metadata": {},
   "outputs": [],
   "source": [
    "# recipe_mapping = {\n",
    "#     \"properties\": {\n",
    "#             \"test\": {\"type\": \"keyword\"},\n",
    "#         }\n",
    "# }"
   ]
  },
  {
   "cell_type": "markdown",
   "id": "25e5afbf-a08f-42ba-a0ba-191c5b562bff",
   "metadata": {},
   "source": [
    "### Print index properties"
   ]
  },
  {
   "cell_type": "code",
   "execution_count": 13,
   "id": "d14cf973-856b-4ba3-89a0-ac3b7de25bbd",
   "metadata": {},
   "outputs": [
    {
     "name": "stdout",
     "output_type": "stream",
     "text": [
      "\n",
      "----------------------------------------------------------------------------------- INDEX SETTINGS\n",
      "{'user219': {'settings': {'index': {'creation_date': '1649241367846',\n",
      "                                    'knn': 'true',\n",
      "                                    'number_of_replicas': '0',\n",
      "                                    'number_of_shards': '4',\n",
      "                                    'provided_name': 'user219',\n",
      "                                    'refresh_interval': '1s',\n",
      "                                    'uuid': 'PpMrLHMUSLqJ2_V185OjRA',\n",
      "                                    'version': {'created': '135238227'}}}}}\n",
      "\n",
      "----------------------------------------------------------------------------------- INDEX MAPPINGS\n",
      "{'user219': {'mappings': {'dynamic': 'strict',\n",
      "                          'properties': {'canonicalName': {'type': 'keyword'},\n",
      "                                         'contents': {'analyzer': 'standard',\n",
      "                                                      'similarity': 'BM25',\n",
      "                                                      'type': 'text'},\n",
      "                                         'cookTimeMinutes': {'type': 'integer'},\n",
      "                                         'cookingMethod': {'type': 'keyword'},\n",
      "                                         'description': {'type': 'text'},\n",
      "                                         'difficultyLevel': {'type': 'keyword'},\n",
      "                                         'displayName': {'type': 'text'},\n",
      "                                         'doc_id': {'type': 'keyword'},\n",
      "                                         'ingredients': {'properties': {'name': {'type': 'text'},\n",
      "                                                                        'quantity': {'type': 'integer'},\n",
      "                                                                        'unit': {'type': 'keyword'}},\n",
      "                                                         'type': 'nested'},\n",
      "                                         'new_field': {'type': 'text'},\n",
      "                                         'prepTimeMinutes': {'type': 'integer'},\n",
      "                                         'recipe': {'properties': {'components': {'properties': {'name': {'type': 'text'}},\n",
      "                                                                                  'type': 'nested'},\n",
      "                                                                   'cookTimeMinutes': {'type': 'integer'},\n",
      "                                                                   'description': {'type': 'text'},\n",
      "                                                                   'difficultyLevel': {'type': 'keyword'},\n",
      "                                                                   'images': {'properties': {'type': {'type': 'keyword'},\n",
      "                                                                                             'url': {'type': 'text'}},\n",
      "                                                                              'type': 'nested'},\n",
      "                                                                   'ingredients': {'properties': {'displayText': {'type': 'text'},\n",
      "                                                                                                  'ingredient': {'type': 'text'},\n",
      "                                                                                                  'quantity': {'type': 'float'},\n",
      "                                                                                                  'unit': {'type': 'keyword'}},\n",
      "                                                                                   'type': 'nested'},\n",
      "                                                                   'instructions': {'properties': {'stepNumber': {'type': 'integer'},\n",
      "                                                                                                   'stepText': {'type': 'text'},\n",
      "                                                                                                   'stepTitle': {'type': 'text'}},\n",
      "                                                                                    'type': 'nested'},\n",
      "                                                                   'nutrition': {'properties': {'nutrients': {'properties': {'calories': {'type': 'float'},\n",
      "                                                                                                                             'carbohydrateContent': {'type': 'float'},\n",
      "                                                                                                                             'cholesterolContent': {'type': 'float'},\n",
      "                                                                                                                             'fatContent': {'type': 'float'},\n",
      "                                                                                                                             'fiberContent': {'type': 'float'},\n",
      "                                                                                                                             'proteinContent': {'type': 'float'},\n",
      "                                                                                                                             'saturatedFatContent': {'type': 'float'},\n",
      "                                                                                                                             'servingSize': {'type': 'float'},\n",
      "                                                                                                                             'sodiumContent': {'type': 'float'},\n",
      "                                                                                                                             'sugarContent': {'type': 'float'},\n",
      "                                                                                                                             'transFatContent': {'type': 'float'},\n",
      "                                                                                                                             'unsaturatedFatContent': {'type': 'float'}},\n",
      "                                                                                                              'type': 'nested'}},\n",
      "                                                                                 'type': 'nested'},\n",
      "                                                                   'prepTimeMinutes': {'type': 'integer'},\n",
      "                                                                   'servings': {'type': 'integer'},\n",
      "                                                                   'title': {'type': 'text'},\n",
      "                                                                   'tools': {'properties': {'displayName': {'type': 'text'}},\n",
      "                                                                             'type': 'nested'},\n",
      "                                                                   'totalTimeMinutes': {'type': 'integer'}},\n",
      "                                                    'type': 'nested'},\n",
      "                                         'recipe_id': {'type': 'keyword'},\n",
      "                                         'sentence_embedding': {'dimension': 768,\n",
      "                                                                'method': {'engine': 'faiss',\n",
      "                                                                           'name': 'hnsw',\n",
      "                                                                           'parameters': {'ef_construction': 256,\n",
      "                                                                                          'm': 48},\n",
      "                                                                           'space_type': 'innerproduct'},\n",
      "                                                                'type': 'knn_vector'},\n",
      "                                         'tags': {'type': 'keyword'},\n",
      "                                         'test': {'type': 'keyword'},\n",
      "                                         'time': {'type': 'integer'},\n",
      "                                         'title': {'type': 'text'},\n",
      "                                         'title_embedding': {'dimension': 512,\n",
      "                                                             'type': 'knn_vector'},\n",
      "                                         'totalTimeMinutes': {'type': 'integer'}}}}}\n",
      "\n",
      "----------------------------------------------------------------------------------- INDEX #DOCs\n",
      "{'count': 2, '_shards': {'total': 4, 'successful': 4, 'skipped': 0, 'failed': 0}}\n"
     ]
    }
   ],
   "source": [
    "print('\\n----------------------------------------------------------------------------------- INDEX SETTINGS')\n",
    "index_settings = {\n",
    "    \"settings\":{\n",
    "      \"index\":{\n",
    "         \"refresh_interval\" : \"1s\"\n",
    "      }\n",
    "   }\n",
    "}\n",
    "client.indices.put_settings(index = index_name, body = index_settings)\n",
    "settings = client.indices.get_settings(index = index_name)\n",
    "pp.pprint(settings)\n",
    "\n",
    "print('\\n----------------------------------------------------------------------------------- INDEX MAPPINGS')\n",
    "client.indices.put_mapping(\n",
    "    index=index_name,\n",
    "    body={\n",
    "        \"properties\": {\n",
    "            \"new_field\": {\"type\": \"text\"}\n",
    "        }\n",
    "    }\n",
    ")\n",
    "\n",
    "\n",
    "mappings = client.indices.get_mapping(index = index_name)\n",
    "pp.pprint(mappings)\n",
    "\n",
    "print('\\n----------------------------------------------------------------------------------- INDEX #DOCs')\n",
    "print(client.count(index = index_name))"
   ]
  },
  {
   "cell_type": "code",
   "execution_count": 46,
   "id": "45e7d823-822d-4d41-b592-a5d7e5b087e6",
   "metadata": {},
   "outputs": [
    {
     "name": "stdout",
     "output_type": "stream",
     "text": [
      "[{'displayText': '½ teaspoon of red pepper flakes (optional)', 'staple': False, 'ingredient': 'red pepper flakes', 'ingredientId': 'nx_item_00780', 'quantity': 0.5, 'unit': 'TEASPOON', 'preparation': None, 'brand': None, 'asinOverride': None, 'images': [], 'componentIndex': 0, 'productOverride': None}, {'displayText': '¼ cup of freshly grated Parmesan cheese', 'staple': False, 'ingredient': 'parmesan cheese', 'ingredientId': 'type_01033_00', 'quantity': 0.25, 'unit': 'CUP', 'preparation': None, 'brand': None, 'asinOverride': None, 'images': [], 'componentIndex': 0, 'productOverride': None}, {'displayText': '4 ounces of part-skim mozzarella, sliced', 'staple': False, 'ingredient': 'Cheese, mozzarella, part skim milk', 'ingredientId': None, 'quantity': 4, 'unit': 'OUNCE', 'preparation': None, 'brand': None, 'asinOverride': None, 'images': [], 'componentIndex': 0, 'productOverride': None}, {'displayText': '4 ounces of fresh mozzarella, sliced', 'staple': False, 'ingredient': 'mozzarella cheese', 'ingredientId': 'type_01026_00', 'quantity': 4, 'unit': 'OUNCE', 'preparation': None, 'brand': None, 'asinOverride': None, 'images': [], 'componentIndex': 0, 'productOverride': None}, {'displayText': '1 ½ cups of marinara sauce', 'staple': False, 'ingredient': 'marinara sauce', 'ingredientId': 'type_06931_00', 'quantity': 1.5, 'unit': 'CUP', 'preparation': None, 'brand': None, 'asinOverride': None, 'images': [], 'componentIndex': 0, 'productOverride': None}, {'displayText': '4 boneless, skinless chicken breasts (1 ½ to 1 ¾ pounds total)', 'staple': False, 'ingredient': 'chicken breast', 'ingredientId': 'type_05064_00', 'quantity': 4, 'unit': 'COUNT', 'preparation': None, 'brand': None, 'asinOverride': None, 'images': [], 'componentIndex': 0, 'productOverride': None}, {'displayText': '1 ½ cups of Italian-seasoned breadcrumbs', 'staple': False, 'ingredient': 'Bread crumbs, dry, grated, plain', 'ingredientId': None, 'quantity': 1.5, 'unit': 'CUP', 'preparation': None, 'brand': None, 'asinOverride': None, 'images': [], 'componentIndex': 0, 'productOverride': None}, {'displayText': '1 tablespoon of water', 'staple': False, 'ingredient': 'Water, tap, drinking', 'ingredientId': None, 'quantity': 1, 'unit': 'TABLESPOON', 'preparation': None, 'brand': None, 'asinOverride': None, 'images': [], 'componentIndex': 0, 'productOverride': None}, {'displayText': '3 large eggs', 'staple': False, 'ingredient': 'egg', 'ingredientId': 'type_01123_00', 'quantity': 3, 'unit': 'COUNT', 'preparation': None, 'brand': None, 'asinOverride': None, 'images': [], 'componentIndex': 0, 'productOverride': None}, {'displayText': '1 teaspoon of freshly ground black pepper, divided', 'staple': False, 'ingredient': 'ground pepper', 'ingredientId': 'subs_ground_pepper', 'quantity': 1, 'unit': 'TEASPOON', 'preparation': None, 'brand': None, 'asinOverride': None, 'images': [], 'componentIndex': 0, 'productOverride': None}, {'displayText': '2 teaspoons of kosher salt, divided, plus more for seasoning', 'staple': False, 'ingredient': 'salt', 'ingredientId': 'type_02047_00', 'quantity': 2, 'unit': 'TEASPOON', 'preparation': None, 'brand': None, 'asinOverride': None, 'images': [], 'componentIndex': 0, 'productOverride': None}, {'displayText': '1 cup of all-purpose flour', 'staple': False, 'ingredient': 'flour', 'ingredientId': 'type_20082_00', 'quantity': 1, 'unit': 'CUP', 'preparation': None, 'brand': None, 'asinOverride': None, 'images': [], 'componentIndex': 0, 'productOverride': None}, {'displayText': '1 ¼ to 2 cups of olive oil (not extra-virgin)', 'staple': False, 'ingredient': 'oil', 'ingredientId': 'nitem_1031', 'quantity': 1.25, 'unit': 'CUP', 'preparation': None, 'brand': None, 'asinOverride': None, 'images': [], 'componentIndex': 0, 'productOverride': None}]\n"
     ]
    }
   ],
   "source": [
    "for recipe_id in recipes_data:\n",
    "    recipe = {\n",
    "        \"recipe_id\": recipe_id,\n",
    "        \"title\": recipes_data[recipe_id]['displayName'],\n",
    "        \"description\": recipes_data[recipe_id]['description'],\n",
    "        \"ingredients\": recipes_data[recipe_id]['ingredients'],\n",
    "        \"time\": recipes_data[recipe_id]['prepTimeMinutes'] + recipes_data[recipe_id]['cookTimeMinutes'],\n",
    "    }\n",
    "    if recipe_id == '0':\n",
    "        print(recipes_data[recipe_id]['ingredients'])"
   ]
  },
  {
   "cell_type": "code",
   "execution_count": null,
   "id": "f581df6e-7d64-45b6-845f-e926eb998ce4",
   "metadata": {},
   "outputs": [],
   "source": []
  }
 ],
 "metadata": {
  "kernelspec": {
   "display_name": "nlp-cv-ir",
   "language": "python",
   "name": "nlp-cv-ir"
  },
  "language_info": {
   "codemirror_mode": {
    "name": "ipython",
    "version": 3
   },
   "file_extension": ".py",
   "mimetype": "text/x-python",
   "name": "python",
   "nbconvert_exporter": "python",
   "pygments_lexer": "ipython3",
   "version": "3.9.18"
  },
  "toc-autonumbering": true
 },
 "nbformat": 4,
 "nbformat_minor": 5
}
