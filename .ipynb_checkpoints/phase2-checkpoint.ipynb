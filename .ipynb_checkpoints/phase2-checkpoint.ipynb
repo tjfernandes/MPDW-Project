{
 "cells": [
  {
   "cell_type": "markdown",
   "id": "17bd35f5-e8d7-4f85-8f4d-a045c4eb9ee1",
   "metadata": {},
   "source": [
    "# Introduction Search Index\n",
    "\n",
    "Using OpenSearch to create index mappings for the recipes.\n",
    "\n",
    "Support for text based search, embeddings based search, boolean filters and search with boolean filters"
   ]
  },
  {
   "cell_type": "markdown",
   "id": "9871531b-42a1-493f-84c5-2e9298c68976",
   "metadata": {},
   "source": [
    "# Import and parse JSON file with the recipes"
   ]
  },
  {
   "cell_type": "code",
   "execution_count": 1,
   "id": "9b9bccdb-5585-47be-b8a9-ef0c2a06fdf9",
   "metadata": {},
   "outputs": [],
   "source": [
    "import json as json\n",
    "    \n",
    "with open(\"recipes_data.json\", \"r\") as read_file:\n",
    "    recipes_data = json.load(read_file)"
   ]
  },
  {
   "cell_type": "code",
   "execution_count": 2,
   "id": "f934a6af-51e0-4fec-8590-7253d4fcd44e",
   "metadata": {},
   "outputs": [
    {
     "data": {
      "text/plain": [
       "'994'"
      ]
     },
     "execution_count": 2,
     "metadata": {},
     "output_type": "execute_result"
    }
   ],
   "source": [
    "recipe_book_len = len(recipes_data)\n",
    "str(recipe_book_len)"
   ]
  },
  {
   "cell_type": "markdown",
   "id": "bd825748-b65f-45ae-8ee9-9113a7cbec1b",
   "metadata": {},
   "source": [
    "# OpenSearch client creation\n"
   ]
  },
  {
   "cell_type": "markdown",
   "id": "6483bf4a-f3b5-4221-997e-d6c7840fcf9b",
   "metadata": {},
   "source": [
    "Need to create the openSearch client in order to create the search index mappings and further quering"
   ]
  },
  {
   "cell_type": "markdown",
   "id": "2d553a8d-0046-44f7-a0e3-5b415ec54634",
   "metadata": {},
   "source": [
    "## Credentials and index name"
   ]
  },
  {
   "cell_type": "code",
   "execution_count": 3,
   "id": "ab066c72-41d1-49ea-95bb-277659eb003f",
   "metadata": {},
   "outputs": [],
   "source": [
    "import pprint as pp\n",
    "import requests\n",
    "from config import CONFIG\n",
    "\n",
    "host = CONFIG[\"host\"]\n",
    "port = CONFIG[\"port\"]\n",
    "user = CONFIG[\"user\"]\n",
    "password = CONFIG[\"password\"]\n",
    "#index_name = CONFIG[\"index_name\"]\n",
    "index_name = user"
   ]
  },
  {
   "cell_type": "markdown",
   "id": "dd219777-796d-42e0-84c7-f7fba49a6315",
   "metadata": {},
   "source": [
    "## Create the OpenSearch client and check if index_name exists"
   ]
  },
  {
   "cell_type": "code",
   "execution_count": 5,
   "id": "4ef7d74f-d475-4b6e-bc49-d53a8f88a4a8",
   "metadata": {},
   "outputs": [],
   "source": [
    "from opensearchpy import OpenSearch\n",
    "from opensearchpy import helpers\n",
    "\n",
    "# Create the client with SSL/TLS enabled, but hostname verification disabled.\n",
    "client = OpenSearch(\n",
    "    hosts = [{'host': host, 'port': port}],\n",
    "    http_compress = True, # enables gzip compression for request bodies\n",
    "    http_auth = (user, password),\n",
    "    url_prefix = 'opensearch',\n",
    "    use_ssl = True,\n",
    "    verify_certs = False,\n",
    "    ssl_assert_hostname = False,\n",
    "    ssl_show_warn = False\n",
    ")"
   ]
  },
  {
   "cell_type": "markdown",
   "id": "9858a1a8-f4db-471f-ae3c-9ca1c69ca1c3",
   "metadata": {},
   "source": [
    "Release the resources by closing index handle"
   ]
  },
  {
   "cell_type": "code",
   "execution_count": 6,
   "id": "a40c7a5d-b001-4862-9aa4-459a2d653aec",
   "metadata": {},
   "outputs": [
    {
     "name": "stdout",
     "output_type": "stream",
     "text": [
      "{'acknowledged': True, 'shards_acknowledged': True, 'indices': {'user219': {'closed': True}}}\n"
     ]
    }
   ],
   "source": [
    "resp = client.indices.close(index = index_name, timeout=600)\n",
    "print(resp)"
   ]
  },
  {
   "cell_type": "markdown",
   "id": "b8e325b0-bb63-4abe-9965-678a7acd98fd",
   "metadata": {},
   "source": [
    "Delete the previous index"
   ]
  },
  {
   "cell_type": "code",
   "execution_count": 7,
   "id": "165251f7-54b9-48c2-8e30-1ecac2012010",
   "metadata": {},
   "outputs": [
    {
     "name": "stdout",
     "output_type": "stream",
     "text": [
      "\n",
      "Deleting index:\n",
      "{'acknowledged': True}\n"
     ]
    }
   ],
   "source": [
    "#be absolutely sure that you want to comment this line and actually delete the index!!!\n",
    "\n",
    "if client.indices.exists(index=index_name):\n",
    "    # Delete the index.\n",
    "    response = client.indices.delete(\n",
    "        index = index_name,\n",
    "        timeout = 600\n",
    "    )\n",
    "    print('\\nDeleting index:')\n",
    "    print(response)"
   ]
  },
  {
   "cell_type": "markdown",
   "id": "d5148e96-6c91-4562-a1d8-4159caa1a5a0",
   "metadata": {},
   "source": [
    "# Index creation"
   ]
  },
  {
   "cell_type": "code",
   "execution_count": 8,
   "id": "b8ac954b-0887-46b8-824f-bde92526bbc7",
   "metadata": {},
   "outputs": [
    {
     "name": "stdout",
     "output_type": "stream",
     "text": [
      "\n",
      "Creating index:\n",
      "{'acknowledged': True, 'shards_acknowledged': True, 'index': 'user219'}\n"
     ]
    }
   ],
   "source": [
    "\n",
    "index_body = {\n",
    "   \"settings\":{\n",
    "      \"index\":{\n",
    "         \"number_of_replicas\":0,\n",
    "         \"number_of_shards\":4,\n",
    "         \"refresh_interval\":\"1s\",\n",
    "         \"knn\":\"true\"\n",
    "      }\n",
    "   },\n",
    "   \"mappings\": {\n",
    "        \"properties\": {\n",
    "            \"recipe_id\": {\"type\": \"keyword\"},\n",
    "            \"title\": {\"type\": \"text\"},\n",
    "            \"description\": {\"type\": \"text\"},\n",
    "            \"time\": {\"type\": \"integer\"},\n",
    "            \"difficulty\": {\"type\": \"keyword\"},\n",
    "            \"ingredients\": {\n",
    "                \"type\": \"nested\",\n",
    "                \"properties\": {\n",
    "                    \"text\": {\"type\": \"text\"},\n",
    "                    \"name\": {\"type\": \"text\"},\n",
    "                    \"quantity\": {\"type\": \"float\"},\n",
    "                    \"unit\": {\"type\": \"keyword\"}\n",
    "                }\n",
    "            },\n",
    "            \"instructions\": {\n",
    "                \"type\": \"nested\",\n",
    "                \"properties\": {\n",
    "                    \"stepNumber\": {\"type\": \"integer\"},\n",
    "                    \"text\": {\"type\": \"text\"},\n",
    "                    \"durationSeconds\": {\"type\": \"integer\"}\n",
    "                }\n",
    "            },\n",
    "            \"nutrients\": {\n",
    "                \"type\": \"object\",\n",
    "                \"properties\": {\n",
    "                    \"calories\": {\n",
    "                        \"type\": \"object\",\n",
    "                        \"properties\": {\n",
    "                            \"quantity\": {\"type\": \"float\"},\n",
    "                            \"measurement\": {\"type\": \"keyword\"}\n",
    "                        }\n",
    "                    },\n",
    "                    \"protein\": {\n",
    "                        \"type\": \"object\",\n",
    "                        \"properties\": {\n",
    "                            \"quantity\": {\"type\": \"float\"},\n",
    "                            \"measurement\": {\"type\": \"keyword\"}\n",
    "                        }\n",
    "                    },\n",
    "                    \"fat\": {\n",
    "                        \"type\": \"object\",\n",
    "                        \"properties\": {\n",
    "                            \"quantity\": {\"type\": \"float\"},\n",
    "                            \"measurement\": {\"type\": \"keyword\"}\n",
    "                        }\n",
    "                    },\n",
    "                    \"carbohydrates\": {\n",
    "                        \"type\": \"object\",\n",
    "                        \"properties\": {\n",
    "                            \"quantity\": {\"type\": \"float\"},\n",
    "                            \"measurement\": {\"type\": \"keyword\"}\n",
    "                        }\n",
    "                    }\n",
    "                }\n",
    "            }\n",
    "        }\n",
    "    }\n",
    "}\n",
    "\n",
    "if client.indices.exists(index=index_name):\n",
    "    print(\"Index already existed. Nothing to be done.\")\n",
    "else:        \n",
    "    response = client.indices.create(index_name, body=index_body)\n",
    "    print('\\nCreating index:')\n",
    "    print(response)\n"
   ]
  },
  {
   "cell_type": "markdown",
   "id": "25e5afbf-a08f-42ba-a0ba-191c5b562bff",
   "metadata": {},
   "source": [
    "## Print index properties"
   ]
  },
  {
   "cell_type": "code",
   "execution_count": 9,
   "id": "d14cf973-856b-4ba3-89a0-ac3b7de25bbd",
   "metadata": {},
   "outputs": [
    {
     "name": "stdout",
     "output_type": "stream",
     "text": [
      "\n",
      "----------------------------------------------------------------------------------- INDEX SETTINGS\n",
      "{'user219': {'settings': {'index': {'creation_date': '1715176222587',\n",
      "                                    'knn': 'true',\n",
      "                                    'number_of_replicas': '0',\n",
      "                                    'number_of_shards': '4',\n",
      "                                    'provided_name': 'user219',\n",
      "                                    'refresh_interval': '1s',\n",
      "                                    'uuid': 'sGp49ibBToe9cLkvWc091Q',\n",
      "                                    'version': {'created': '135238227'}}}}}\n",
      "\n",
      "----------------------------------------------------------------------------------- INDEX MAPPINGS\n",
      "{'user219': {'mappings': {'properties': {'description': {'type': 'text'},\n",
      "                                         'difficulty': {'type': 'keyword'},\n",
      "                                         'ingredients': {'properties': {'name': {'type': 'text'},\n",
      "                                                                        'quantity': {'type': 'float'},\n",
      "                                                                        'text': {'type': 'text'},\n",
      "                                                                        'unit': {'type': 'keyword'}},\n",
      "                                                         'type': 'nested'},\n",
      "                                         'instructions': {'properties': {'durationSeconds': {'type': 'integer'},\n",
      "                                                                         'stepNumber': {'type': 'integer'},\n",
      "                                                                         'text': {'type': 'text'}},\n",
      "                                                          'type': 'nested'},\n",
      "                                         'nutrients': {'properties': {'calories': {'properties': {'measurement': {'type': 'keyword'},\n",
      "                                                                                                  'quantity': {'type': 'float'}}},\n",
      "                                                                      'carbohydrates': {'properties': {'measurement': {'type': 'keyword'},\n",
      "                                                                                                       'quantity': {'type': 'float'}}},\n",
      "                                                                      'fat': {'properties': {'measurement': {'type': 'keyword'},\n",
      "                                                                                             'quantity': {'type': 'float'}}},\n",
      "                                                                      'protein': {'properties': {'measurement': {'type': 'keyword'},\n",
      "                                                                                                 'quantity': {'type': 'float'}}}}},\n",
      "                                         'recipe_id': {'type': 'keyword'},\n",
      "                                         'time': {'type': 'integer'},\n",
      "                                         'title': {'type': 'text'}}}}}\n",
      "\n",
      "----------------------------------------------------------------------------------- INDEX #DOCs\n",
      "{'count': 0, '_shards': {'total': 4, 'successful': 4, 'skipped': 0, 'failed': 0}}\n"
     ]
    }
   ],
   "source": [
    "print('\\n----------------------------------------------------------------------------------- INDEX SETTINGS')\n",
    "settings = client.indices.get_settings(index = index_name)\n",
    "pp.pprint(settings)\n",
    "\n",
    "print('\\n----------------------------------------------------------------------------------- INDEX MAPPINGS')\n",
    "mappings = client.indices.get_mapping(index = index_name)\n",
    "pp.pprint(mappings)\n",
    "\n",
    "print('\\n----------------------------------------------------------------------------------- INDEX #DOCs')\n",
    "print(client.count(index = index_name))"
   ]
  },
  {
   "cell_type": "markdown",
   "id": "1faab3df-71df-4503-a126-35fa80da13b9",
   "metadata": {},
   "source": [
    "# Add recipes to index with the correct mappings"
   ]
  },
  {
   "cell_type": "code",
   "execution_count": 11,
   "id": "45e7d823-822d-4d41-b592-a5d7e5b087e6",
   "metadata": {},
   "outputs": [
    {
     "name": "stdout",
     "output_type": "stream",
     "text": [
      "DONE\n"
     ]
    }
   ],
   "source": [
    "#Comment line if you need to add to index\n",
    "\n",
    "for recipe_id in recipes_data:\n",
    "    \n",
    "    # Extract and format ingredients data\n",
    "    ingredients = []\n",
    "    for ingredient_data in recipes_data[recipe_id]['ingredients']:\n",
    "        ingredient = {\n",
    "            \"text\": ingredient_data['displayText'],\n",
    "            \"name\": ingredient_data['ingredient'],\n",
    "            \"quantity\": ingredient_data['quantity'],\n",
    "            \"unit\": ingredient_data['unit']\n",
    "        }\n",
    "        ingredients.append(ingredient)\n",
    "\n",
    "    instructions = []\n",
    "    for instruction_data in recipes_data[recipe_id]['instructions']:\n",
    "        instruction = {\n",
    "            \"stepNumber\": instruction_data['stepNumber'],\n",
    "            \"text\": instruction_data['stepText'],\n",
    "            \"durationSeconds\": instruction_data['stepDurationSeconds']\n",
    "        }\n",
    "        instructions.append(instruction)\n",
    "\n",
    "    # Check if nutrients data is available\n",
    "    nutrients_data = recipes_data[recipe_id].get('nutrition')\n",
    "    if nutrients_data:\n",
    "        # Check if nutrients are available\n",
    "        nutrients = {}\n",
    "        for nutrient_name in ['calories', 'carbohydrateContent', 'fatContent', 'proteinContent']:\n",
    "            nutrient_data = nutrients_data.get('nutrients', {}).get(nutrient_name)\n",
    "            if nutrient_data:\n",
    "                nutrients[nutrient_name] = {\n",
    "                    \"quantity\": nutrient_data.get('quantity'),\n",
    "                    \"unit\": nutrient_data.get('measurement')\n",
    "                }\n",
    "    else:\n",
    "        nutrients = None\n",
    "    \n",
    "    recipe = {\n",
    "        \"recipe_id\": recipe_id,\n",
    "        \"title\": recipes_data[recipe_id]['displayName'],\n",
    "        \"description\": recipes_data[recipe_id]['description'],\n",
    "        \"difficulty\": recipes_data[recipe_id]['difficultyLevel'],\n",
    "        \"ingredients\": ingredients,\n",
    "        \"instructions\": instructions,\n",
    "        \"nutrients\": nutrients,  # Assign nutrients here\n",
    "        \"time\": recipes_data[recipe_id]['totalTimeMinutes'],\n",
    "    }\n",
    "\n",
    "    # Add recipe to index\n",
    "    result = client.index(index=index_name, id=int(recipe_id), body=recipe)\n",
    "\n",
    "print('DONE')\n"
   ]
  },
  {
   "cell_type": "markdown",
   "id": "15c5be0d-33ad-4ab9-bf34-dff4d2b0ee6e",
   "metadata": {},
   "source": [
    "### Delete the recipes (optional)"
   ]
  },
  {
   "cell_type": "code",
   "execution_count": 11,
   "id": "6ebb7893-ef94-4a01-ab5e-8ba7bfa178ff",
   "metadata": {},
   "outputs": [
    {
     "ename": "SyntaxError",
     "evalue": "invalid syntax (1276159382.py, line 1)",
     "output_type": "error",
     "traceback": [
      "\u001b[0;36m  Cell \u001b[0;32mIn[11], line 1\u001b[0;36m\u001b[0m\n\u001b[0;31m    comment this line if you need to delete the recipes\u001b[0m\n\u001b[0m            ^\u001b[0m\n\u001b[0;31mSyntaxError\u001b[0m\u001b[0;31m:\u001b[0m invalid syntax\n"
     ]
    }
   ],
   "source": [
    "comment this line if you need to delete the recipes\n",
    "\n",
    "for i in range(0, recipe_book_len):\n",
    "    response = client.delete(index=index_name, id=i)"
   ]
  },
  {
   "cell_type": "markdown",
   "id": "c63e79a6-1c3e-49c5-9a55-3b2200b49cd6",
   "metadata": {},
   "source": [
    "# Text Based Search"
   ]
  },
  {
   "cell_type": "code",
   "execution_count": null,
   "id": "f581df6e-7d64-45b6-845f-e926eb998ce4",
   "metadata": {},
   "outputs": [],
   "source": [
    "def text_based_search(size, sources, query_txt, fields):\n",
    "    query_bm25 = {\n",
    "      'size': size,\n",
    "      '_source': sources,\n",
    "      'query': {\n",
    "        'multi_match': {\n",
    "          'query': query_txt,\n",
    "          'fields': fields\n",
    "        }\n",
    "      }\n",
    "    }\n",
    "    return client.search(\n",
    "        body = query_bm25,\n",
    "        index = index_name\n",
    "    )\n",
    "\n",
    "\n",
    "result = text_based_search(recipe_book_len, ['recipe_id', 'title', 'description', 'ingredients'], 'chicken parmesan', ['title'])\n",
    "\n",
    "print('\\nSearch results:')\n",
    "pp.pprint(result)\n"
   ]
  },
  {
   "cell_type": "markdown",
   "id": "2808b8a0-8edf-4285-935a-74079cc0ad15",
   "metadata": {},
   "source": [
    "# Embeddings based Search with kNN\n",
    "\n",
    "Using Approximate kNN for better perfomance over kNN on high-dimensional data.\n",
    "\n",
    "Using dense vector for capturing more complex relationships and similarities between data points while working with high-dimensional data"
   ]
  },
  {
   "cell_type": "markdown",
   "id": "68556a88-4c4f-43c8-8d54-28c5c042dbbc",
   "metadata": {},
   "source": [
    "## Create an index with dense vectors"
   ]
  },
  {
   "cell_type": "code",
   "execution_count": 13,
   "id": "b0f6f628-e719-4f08-8e86-0dc2d8625f97",
   "metadata": {},
   "outputs": [
    {
     "name": "stdout",
     "output_type": "stream",
     "text": [
      "{'user219': {'mappings': {'properties': {'description': {'type': 'text'},\n",
      "                                         'description_embedding': {'dimension': 768,\n",
      "                                                                   'method': {'engine': 'faiss',\n",
      "                                                                              'name': 'hnsw',\n",
      "                                                                              'parameters': {'ef_construction': 256,\n",
      "                                                                                             'm': 48},\n",
      "                                                                              'space_type': 'innerproduct'},\n",
      "                                                                   'type': 'knn_vector'},\n",
      "                                         'difficulty': {'type': 'keyword'},\n",
      "                                         'ingredients': {'properties': {'name': {'type': 'text'},\n",
      "                                                                        'quantity': {'type': 'float'},\n",
      "                                                                        'text': {'type': 'text'},\n",
      "                                                                        'unit': {'type': 'keyword'}},\n",
      "                                                         'type': 'nested'},\n",
      "                                         'instructions': {'properties': {'durationSeconds': {'type': 'integer'},\n",
      "                                                                         'stepNumber': {'type': 'integer'},\n",
      "                                                                         'text': {'type': 'text'}},\n",
      "                                                          'type': 'nested'},\n",
      "                                         'nutrients': {'properties': {'calories': {'properties': {'measurement': {'type': 'keyword'},\n",
      "                                                                                                  'quantity': {'type': 'float'}}},\n",
      "                                                                      'carbohydrates': {'properties': {'measurement': {'type': 'keyword'},\n",
      "                                                                                                       'quantity': {'type': 'float'}}},\n",
      "                                                                      'fat': {'properties': {'measurement': {'type': 'keyword'},\n",
      "                                                                                             'quantity': {'type': 'float'}}},\n",
      "                                                                      'protein': {'properties': {'measurement': {'type': 'keyword'},\n",
      "                                                                                                 'quantity': {'type': 'float'}}}}},\n",
      "                                         'recipe_id': {'type': 'keyword'},\n",
      "                                         'time': {'type': 'integer'},\n",
      "                                         'title': {'type': 'text'},\n",
      "                                         'title_embedding': {'dimension': 768,\n",
      "                                                             'method': {'engine': 'faiss',\n",
      "                                                                        'name': 'hnsw',\n",
      "                                                                        'parameters': {'ef_construction': 256,\n",
      "                                                                                       'm': 48},\n",
      "                                                                        'space_type': 'innerproduct'},\n",
      "                                                             'type': 'knn_vector'}}}}}\n"
     ]
    }
   ],
   "source": [
    "embedding_mappings = {\n",
    "    \"properties\": {\n",
    "        # \"sentence_embedding\":{\n",
    "        #     \"type\":\"knn_vector\",\n",
    "        #     \"dimension\": 768,\n",
    "        #     \"method\":{\n",
    "        #         \"name\":\"hnsw\",\n",
    "        #         \"space_type\":\"innerproduct\",\n",
    "        #         \"engine\":\"faiss\",\n",
    "        #         \"parameters\":{\n",
    "        #           \"ef_construction\":256,\n",
    "        #           \"m\":48\n",
    "        #         }\n",
    "        #     }\n",
    "        # },\n",
    "        \"title_embedding\":{\n",
    "            \"type\":\"knn_vector\",\n",
    "            \"dimension\": 768,\n",
    "            \"method\":{\n",
    "                \"name\":\"hnsw\",\n",
    "                \"space_type\":\"innerproduct\",\n",
    "                \"engine\":\"faiss\",\n",
    "                \"parameters\":{\n",
    "                  \"ef_construction\":256,\n",
    "                  \"m\":48\n",
    "                }\n",
    "            }\n",
    "        },\n",
    "        \"description_embedding\":{\n",
    "            \"type\":\"knn_vector\",\n",
    "            \"dimension\": 768,\n",
    "            \"method\":{\n",
    "                \"name\":\"hnsw\",\n",
    "                \"space_type\":\"innerproduct\",\n",
    "                \"engine\":\"faiss\",\n",
    "                \"parameters\":{\n",
    "                  \"ef_construction\":256,\n",
    "                  \"m\":48\n",
    "                }\n",
    "            }\n",
    "        },\n",
    "        # \"time_embedding\":{\n",
    "        #     \"type\":\"knn_vector\",\n",
    "        #     \"dimension\": 768,\n",
    "        #     \"method\":{\n",
    "        #         \"name\":\"hnsw\",\n",
    "        #         \"space_type\":\"innerproduct\",\n",
    "        #         \"engine\":\"faiss\",\n",
    "        #         \"parameters\":{\n",
    "        #           \"ef_construction\":256,\n",
    "        #           \"m\":48\n",
    "        #         }\n",
    "        #     }\n",
    "        # },\n",
    "        # \"difficulty_embedding\":{\n",
    "        #     \"type\":\"knn_vector\",\n",
    "        #     \"dimension\": 768,\n",
    "        #     \"method\":{\n",
    "        #         \"name\":\"hnsw\",\n",
    "        #         \"space_type\":\"innerproduct\",\n",
    "        #         \"engine\":\"faiss\",\n",
    "        #         \"parameters\":{\n",
    "        #           \"ef_construction\":256,\n",
    "        #           \"m\":48\n",
    "        #         }\n",
    "        #     }\n",
    "        # },\n",
    "        # \"ingredients_embedding\":{\n",
    "        #     \"type\":\"knn_vector\",\n",
    "        #     \"dimension\": 768,\n",
    "        #     \"method\":{\n",
    "        #         \"name\":\"hnsw\",\n",
    "        #         \"space_type\":\"innerproduct\",\n",
    "        #         \"engine\":\"faiss\",\n",
    "        #         \"parameters\":{\n",
    "        #           \"ef_construction\":256,\n",
    "        #           \"m\":48\n",
    "        #         }\n",
    "        #     }\n",
    "        # },\n",
    "        # \"instructions_embedding\":{\n",
    "        #     \"type\":\"knn_vector\",\n",
    "        #     \"dimension\": 768,\n",
    "        #     \"method\":{\n",
    "        #         \"name\":\"hnsw\",\n",
    "        #         \"space_type\":\"innerproduct\",\n",
    "        #         \"engine\":\"faiss\",\n",
    "        #         \"parameters\":{\n",
    "        #           \"ef_construction\":256,\n",
    "        #           \"m\":48\n",
    "        #         }\n",
    "        #     }\n",
    "        # },\n",
    "        # \"nutrients_embedding\":{\n",
    "        #     \"type\":\"knn_vector\",\n",
    "        #     \"dimension\": 768,\n",
    "        #     \"method\":{\n",
    "        #         \"name\":\"hnsw\",\n",
    "        #         \"space_type\":\"innerproduct\",\n",
    "        #         \"engine\":\"faiss\",\n",
    "        #         \"parameters\":{\n",
    "        #           \"ef_construction\":256,\n",
    "        #           \"m\":48\n",
    "        #         }\n",
    "        #     }\n",
    "        # }\n",
    "    }\n",
    "}\n",
    "\n",
    "client.indices.put_mapping(index=index_name, body=embedding_mappings)\n",
    "mappings = client.indices.get_mapping(index = index_name)\n",
    "pp.pprint(mappings)"
   ]
  },
  {
   "cell_type": "markdown",
   "id": "8c423d96-50a4-413c-844b-52d9e87712a1",
   "metadata": {},
   "source": [
    "## Define dual-encoder"
   ]
  },
  {
   "cell_type": "code",
   "execution_count": 14,
   "id": "22e35e3c-8e93-4c47-b011-064303de25c3",
   "metadata": {},
   "outputs": [
    {
     "name": "stdout",
     "output_type": "stream",
     "text": [
      "994\n",
      "994\n"
     ]
    }
   ],
   "source": [
    "from transformers import AutoTokenizer, AutoModel\n",
    "import torch\n",
    "import torch.nn.functional as F\n",
    "\n",
    "#Mean Pooling - Take average of all tokens\n",
    "def mean_pooling(model_output, attention_mask):\n",
    "    token_embeddings = model_output.last_hidden_state #First element of model_output contains all token embeddings\n",
    "    input_mask_expanded = attention_mask.unsqueeze(-1).expand(token_embeddings.size()).float()\n",
    "    return torch.sum(token_embeddings * input_mask_expanded, 1) / torch.clamp(input_mask_expanded.sum(1), min=1e-9)\n",
    "\n",
    "\n",
    "#Encode text\n",
    "def encode(texts):\n",
    "    # Tokenize sentences\n",
    "    encoded_input = tokenizer(texts, padding=True, truncation=True, return_tensors='pt')\n",
    "\n",
    "    # Compute token embeddings\n",
    "    with torch.no_grad():\n",
    "        model_output = model(**encoded_input, return_dict=True)\n",
    "\n",
    "    # Perform pooling\n",
    "    embeddings = mean_pooling(model_output, encoded_input['attention_mask'])\n",
    "\n",
    "    # Normalize embeddings\n",
    "    embeddings = F.normalize(embeddings, p=2, dim=1)\n",
    "    \n",
    "    return embeddings\n",
    "\n",
    "\n",
    "# Load model from HuggingFace Hub\n",
    "tokenizer = AutoTokenizer.from_pretrained(\"sentence-transformers/msmarco-distilbert-base-v2\")\n",
    "model = AutoModel.from_pretrained(\"sentence-transformers/msmarco-distilbert-base-v2\")\n",
    "\n",
    "# docs = [\"Around 9 Million people live in London\", \"London is known for its financial district\"]\n",
    "# doc_emb = encode(docs)\n",
    "# print(len(doc_emb))\n",
    "\n",
    "titles = []\n",
    "descriptions = []\n",
    "for recipe in recipes_data.values():\n",
    "    # Access the \"displayName\" and \"description\" fields of each recipe and append them to the respective lists\n",
    "    titles.append(recipe[\"displayName\"])\n",
    "    descriptions.append(recipe[\"description\"] if recipe[\"description\"] is not None else 'None')\n",
    "    \n",
    "titles_emb = encode(titles)\n",
    "descriptions_emb = encode(descriptions)\n",
    "\n",
    "print(len(titles_emb))\n",
    "print(len(descriptions_emb))"
   ]
  },
  {
   "cell_type": "markdown",
   "id": "412ab37d-6abe-4f27-88f3-94b7b4032530",
   "metadata": {},
   "source": [
    "## Add recipes with embeddings to index"
   ]
  },
  {
   "cell_type": "code",
   "execution_count": 15,
   "id": "3f898c14-2abb-4bc4-86c0-84d9e5249186",
   "metadata": {},
   "outputs": [
    {
     "name": "stdout",
     "output_type": "stream",
     "text": [
      "DONE\n"
     ]
    }
   ],
   "source": [
    "#Comment line if you need to add to index\n",
    "\n",
    "for recipe_id in recipes_data:\n",
    "    # Extract and format ingredients data\n",
    "    ingredients = []\n",
    "    for ingredient_data in recipes_data[recipe_id]['ingredients']:\n",
    "        ingredient = {\n",
    "            \"text\": ingredient_data['displayText'],\n",
    "            \"name\": ingredient_data['ingredient'],\n",
    "            \"quantity\": ingredient_data['quantity'],\n",
    "            \"unit\": ingredient_data['unit']\n",
    "        }\n",
    "        ingredients.append(ingredient)\n",
    "\n",
    "    instructions = []\n",
    "    for instruction_data in recipes_data[recipe_id]['instructions']:\n",
    "        instruction = {\n",
    "            \"stepNumber\": instruction_data['stepNumber'],\n",
    "            \"text\": instruction_data['stepText'],\n",
    "            \"durationSeconds\": instruction_data['stepDurationSeconds']\n",
    "        }\n",
    "        instructions.append(instruction)\n",
    "\n",
    "    # Check if nutrients data is available\n",
    "    nutrients_data = recipes_data[recipe_id].get('nutrition')\n",
    "    if nutrients_data:\n",
    "        # Check if nutrients are available\n",
    "        nutrients = {}\n",
    "        for nutrient_name in ['calories', 'carbohydrateContent', 'fatContent', 'proteinContent']:\n",
    "            nutrient_data = nutrients_data.get('nutrients', {}).get(nutrient_name)\n",
    "            if nutrient_data:\n",
    "                nutrients[nutrient_name] = {\n",
    "                    \"quantity\": nutrient_data.get('quantity'),\n",
    "                    \"unit\": nutrient_data.get('measurement')\n",
    "                }\n",
    "    else:\n",
    "        nutrients = None\n",
    "\n",
    "    \n",
    "    \n",
    "    recipe = {\n",
    "        \"recipe_id\": recipe_id,\n",
    "        \"title\": recipes_data[recipe_id]['displayName'],\n",
    "        \"description\": recipes_data[recipe_id]['description'],\n",
    "        \"difficulty\": recipes_data[recipe_id]['difficultyLevel'],\n",
    "        \"ingredients\": ingredients,\n",
    "        \"instructions\": instructions,\n",
    "        \"nutrients\": nutrients,\n",
    "        \"time\": recipes_data[recipe_id]['totalTimeMinutes'],\n",
    "        \n",
    "        \"title_embedding\": titles_emb[int(recipe_id)].numpy(),\n",
    "        \"description_embedding\": descriptions_emb[int(recipe_id)].numpy(),\n",
    "        # \"difficulty_embedding\": recipes_emb[int(recipe_id)].numpy(),\n",
    "        # \"ingredients_embedding\": recipes_emb[int(recipe_id)].numpy(),\n",
    "        # \"instructions_embedding\": recipes_emb[int(recipe_id)].numpy(),\n",
    "        # \"nutrients_embedding\": recipes_emb[int(recipe_id)].numpy(),\n",
    "        # \"time_embedding\": recipes_emb[int(recipe_id)].numpy(),\n",
    "    }\n",
    "\n",
    "    # Add recipe to index\n",
    "    result = client.index(index=index_name, id=int(recipe_id), body=recipe)\n",
    "\n",
    "print('DONE')\n"
   ]
  },
  {
   "cell_type": "markdown",
   "id": "a30fbf99-3f05-4e4f-8705-c46e4fbf95c6",
   "metadata": {},
   "source": [
    "## Embeddings based search"
   ]
  },
  {
   "cell_type": "code",
   "execution_count": null,
   "id": "8489e42a-719e-4f75-870f-7dbb93e12da8",
   "metadata": {},
   "outputs": [],
   "source": [
    "# Compute the query embedding\n",
    "query = \"drink\"\n",
    "query_emb = encode(query)\n",
    "\n",
    "query_denc = {\n",
    "  'size': 10,\n",
    "#  '_source': ['doc_id', 'contents', 'sentence_embedding'],\n",
    "#  '_source': ['doc_id', 'contents'],\n",
    "  '_source': ['title', 'description', 'ingredients'],\n",
    "   \"query\": {\n",
    "        \"knn\": {\n",
    "          \"title_embedding\": {\n",
    "            \"vector\": query_emb[0].numpy(),\n",
    "            \"k\": 2\n",
    "          }\n",
    "        }\n",
    "      }\n",
    "}\n",
    "\n",
    "response = client.search(\n",
    "    body = query_denc,\n",
    "    index = index_name\n",
    ")\n",
    "\n",
    "print('\\nSearch results:')\n",
    "pp.pprint(response)"
   ]
  },
  {
   "cell_type": "markdown",
   "id": "c0fcbcb9-a07d-41b9-be5b-4de8b98c7b5c",
   "metadata": {},
   "source": [
    "# Boolean filters"
   ]
  },
  {
   "cell_type": "code",
   "execution_count": 42,
   "id": "48274816-9eaa-4bb8-a47f-dde0008ebc7f",
   "metadata": {},
   "outputs": [
    {
     "name": "stdout",
     "output_type": "stream",
     "text": [
      "\n",
      "Search results:\n",
      "{'_shards': {'failed': 0, 'skipped': 0, 'successful': 4, 'total': 4},\n",
      " 'hits': {'hits': [{'_id': '841',\n",
      "                    '_index': 'user219',\n",
      "                    '_score': 3.096571,\n",
      "                    '_source': {'description': None,\n",
      "                                'ingredients': [{'name': 'Laughing Cow Swiss '\n",
      "                                                         'Cheese Wedges',\n",
      "                                                 'quantity': 1,\n",
      "                                                 'text': '1.0 package Laughing '\n",
      "                                                         'Cow Swiss Cheese '\n",
      "                                                         'Wedges',\n",
      "                                                 'unit': 'PACKAGE'},\n",
      "                                                {'name': 'Light Sour Cream',\n",
      "                                                 'quantity': 1,\n",
      "                                                 'text': '1.0 cup Light Sour '\n",
      "                                                         'Cream',\n",
      "                                                 'unit': 'CUP'},\n",
      "                                                {'name': \"Frank's® RedHot® \"\n",
      "                                                         'Buffalo Sauce',\n",
      "                                                 'quantity': 1,\n",
      "                                                 'text': \"Frank's® RedHot® \"\n",
      "                                                         'Buffalo Sauce, to '\n",
      "                                                         'taste',\n",
      "                                                 'unit': 'TO_TASTE'},\n",
      "                                                {'name': 'white onion',\n",
      "                                                 'quantity': 1,\n",
      "                                                 'text': '1.0 Onion',\n",
      "                                                 'unit': 'COUNT'},\n",
      "                                                {'name': 'carrots',\n",
      "                                                 'quantity': 2,\n",
      "                                                 'text': '2.0 Carrot',\n",
      "                                                 'unit': 'COUNT'},\n",
      "                                                {'name': 'celery',\n",
      "                                                 'quantity': 2,\n",
      "                                                 'text': '2.0 stalk Celery',\n",
      "                                                 'unit': 'STALK'},\n",
      "                                                {'name': 'penne pasta',\n",
      "                                                 'quantity': 1,\n",
      "                                                 'text': '1.0 box Penne Pasta',\n",
      "                                                 'unit': 'BOX'},\n",
      "                                                {'name': 'Shredded Light '\n",
      "                                                         'Mozzarella Cheese',\n",
      "                                                 'quantity': 2,\n",
      "                                                 'text': '2.0 cups Shredded '\n",
      "                                                         'Light Mozzarella '\n",
      "                                                         'Cheese',\n",
      "                                                 'unit': 'CUP'},\n",
      "                                                {'name': 'green onion',\n",
      "                                                 'quantity': 0.5,\n",
      "                                                 'text': '½ cup Scallion',\n",
      "                                                 'unit': 'CUP'},\n",
      "                                                {'name': 'chicken breast',\n",
      "                                                 'quantity': 2,\n",
      "                                                 'text': '2.0 cups Chicken',\n",
      "                                                 'unit': 'CUP'},\n",
      "                                                {'name': 'oil',\n",
      "                                                 'quantity': 1,\n",
      "                                                 'text': 'Olive Oil, to taste',\n",
      "                                                 'unit': 'TO_TASTE'}],\n",
      "                                'title': 'Light Buffalo Chicken Pasta'},\n",
      "                    '_type': '_doc'}],\n",
      "          'max_score': 3.096571,\n",
      "          'total': {'relation': 'eq', 'value': 1}},\n",
      " 'timed_out': False,\n",
      " 'took': 6}\n"
     ]
    }
   ],
   "source": [
    "def search_with_bool_filter(query_txt, sources, must_queries=None, should_queries=None, filters=None):\n",
    "    query = {\n",
    "        'size': 10,\n",
    "        '_source': sources,\n",
    "        'query': {\n",
    "            'bool': {\n",
    "                \"must\": must_queries if must_queries else [],\n",
    "                \"should\": should_queries if should_queries else [],\n",
    "                \"filter\": filters if filters else []\n",
    "            }\n",
    "        }\n",
    "    }\n",
    "    return client.search(\n",
    "        body = query,\n",
    "        index = index_name\n",
    "    )\n",
    "\n",
    "query_txt = 'What are the best chicken pasta dishes?'\n",
    "must_queries = [{\"match\": {\"title\": \"pasta\"}}]\n",
    "should_queries = [{'multi_match': {'query': query_txt, 'fields': ['ingredients']}}]\n",
    "filters = [{\"match\": {\"title\": \"chicken\"}}]\n",
    "result = search_with_bool_filter(query_txt, ['title', 'description', 'ingredients'], must_queries, should_queries, filters)\n",
    "\n",
    "print('\\nSearch results:')\n",
    "pp.pprint(result)"
   ]
  }
 ],
 "metadata": {
  "kernelspec": {
   "display_name": "nlp-cv-ir",
   "language": "python",
   "name": "python3"
  },
  "language_info": {
   "codemirror_mode": {
    "name": "ipython",
    "version": 3
   },
   "file_extension": ".py",
   "mimetype": "text/x-python",
   "name": "python",
   "nbconvert_exporter": "python",
   "pygments_lexer": "ipython3",
   "version": "3.9.18"
  },
  "toc-autonumbering": true
 },
 "nbformat": 4,
 "nbformat_minor": 5
}
